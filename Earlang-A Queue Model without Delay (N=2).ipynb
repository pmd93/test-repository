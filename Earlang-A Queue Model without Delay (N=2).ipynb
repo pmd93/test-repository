{
 "cells": [
  {
   "cell_type": "markdown",
   "metadata": {},
   "source": [
    "# Earlang-A Queue Model without Delay (N=2)"
   ]
  },
  {
   "cell_type": "code",
   "execution_count": 4,
   "metadata": {},
   "outputs": [],
   "source": [
    "import numpy as np\n",
    "import sympy as sym\n",
    "from scipy.integrate import odeint\n",
    "import matplotlib.pyplot as plt\n",
    "import ipywidgets as widgets\n",
    "\n",
    "def ODE_System(q, t, l, mu, theta, c, gamma):\n",
    "    [q1, q2] = q\n",
    "    dqdt = [(l)/(1 + np.exp(gamma*(q1 - q2))) - (mu * min(q1, c) ) - (theta * max(q1 - c, 0)),  (l)/(1 + np.exp(gamma*(q2 - q1))) - (mu * min(q2, c) ) - (theta * max(q2 - c, 0))]\n",
    "    return dqdt\n",
    "\n",
    "# Define initial condition widgets\n",
    "\n",
    "q01 = widgets.IntSlider(\n",
    "    value = 20, \n",
    "    min = 0, max = 100, \n",
    "    step = 1, \n",
    "    description = 'Initial q1:', \n",
    "    orientation = 'horizontal'\n",
    ")\n",
    "\n",
    "q02 = widgets.IntSlider(\n",
    "    value = 40, \n",
    "    min = 0, max = 100, \n",
    "    step = 1, \n",
    "    description = 'Initial q2:', \n",
    "    orientation = 'horizontal'\n",
    ")\n",
    "\n",
    "# Define parameter widgets\n",
    "\n",
    "lam = widgets.FloatSlider(\n",
    "    value = 50, \n",
    "    min = 0, max = 200, \n",
    "    step = 1, \n",
    "    description = 'lambda:', \n",
    ")\n",
    "mu = widgets.FloatSlider(\n",
    "    value = 1, \n",
    "    min = 0, max = 10, \n",
    "    step = 0.1, \n",
    "    description = 'mu:', \n",
    ")\n",
    "theta = widgets.FloatSlider(\n",
    "    value = 2, \n",
    "    min = 0, max = 10, \n",
    "    step = 0.1, \n",
    "    description = 'theta:', \n",
    ")\n",
    "c = widgets.IntSlider(\n",
    "    value = 55, \n",
    "    min = 0, max = 200,  \n",
    "    description = 'c:', \n",
    ")\n",
    "gamma = widgets.FloatSlider(\n",
    "    value = 5, \n",
    "    min = 0, max = 100, \n",
    "    step = 1, \n",
    "    description = 'gamma:', \n",
    ")\n"
   ]
  },
  {
   "cell_type": "code",
   "execution_count": 5,
   "metadata": {},
   "outputs": [
    {
     "data": {
      "application/vnd.jupyter.widget-view+json": {
       "model_id": "9b0c0208d4344f18916a99dd07275846",
       "version_major": 2,
       "version_minor": 0
      },
      "text/plain": [
       "IntSlider(value=20, description='Initial q1:')"
      ]
     },
     "metadata": {},
     "output_type": "display_data"
    },
    {
     "data": {
      "application/vnd.jupyter.widget-view+json": {
       "model_id": "8967664be33d4f2cb2d685970dcc4db0",
       "version_major": 2,
       "version_minor": 0
      },
      "text/plain": [
       "IntSlider(value=40, description='Initial q2:')"
      ]
     },
     "metadata": {},
     "output_type": "display_data"
    },
    {
     "data": {
      "application/vnd.jupyter.widget-view+json": {
       "model_id": "b1fc69c3a15a4ba58826dd8fdfc655ef",
       "version_major": 2,
       "version_minor": 0
      },
      "text/plain": [
       "FloatSlider(value=50.0, description='lambda:', max=200.0, step=1.0)"
      ]
     },
     "metadata": {},
     "output_type": "display_data"
    },
    {
     "data": {
      "application/vnd.jupyter.widget-view+json": {
       "model_id": "f31a21d7aac7447a8496ca0b1e3466a7",
       "version_major": 2,
       "version_minor": 0
      },
      "text/plain": [
       "FloatSlider(value=1.0, description='mu:', max=10.0)"
      ]
     },
     "metadata": {},
     "output_type": "display_data"
    },
    {
     "data": {
      "application/vnd.jupyter.widget-view+json": {
       "model_id": "5a1424cd02234146b9f02794e0cbeaf7",
       "version_major": 2,
       "version_minor": 0
      },
      "text/plain": [
       "FloatSlider(value=2.0, description='theta:', max=10.0)"
      ]
     },
     "metadata": {},
     "output_type": "display_data"
    },
    {
     "data": {
      "application/vnd.jupyter.widget-view+json": {
       "model_id": "2f401b03a78e46678e02e8b0ac928ae4",
       "version_major": 2,
       "version_minor": 0
      },
      "text/plain": [
       "IntSlider(value=55, description='c:', max=200)"
      ]
     },
     "metadata": {},
     "output_type": "display_data"
    },
    {
     "data": {
      "application/vnd.jupyter.widget-view+json": {
       "model_id": "b51910f6b2254edca76ac2585d1864ac",
       "version_major": 2,
       "version_minor": 0
      },
      "text/plain": [
       "FloatSlider(value=5.0, description='gamma:', step=1.0)"
      ]
     },
     "metadata": {},
     "output_type": "display_data"
    }
   ],
   "source": [
    "display(q01)\n",
    "display(q02)\n",
    "\n",
    "display(lam)\n",
    "display(mu)\n",
    "display(theta)\n",
    "display(c)\n",
    "display(gamma)"
   ]
  },
  {
   "cell_type": "code",
   "execution_count": 6,
   "metadata": {},
   "outputs": [
    {
     "data": {
      "image/png": "[encoded data removed]",
      "text/plain": [
       "<Figure size 432x288 with 1 Axes>"
      ]
     },
     "metadata": {
      "needs_background": "light"
     },
     "output_type": "display_data"
    }
   ],
   "source": [
    "# initial condition\n",
    "q0 = [q01.value, q02.value]\n",
    "\n",
    "# time range that we consider\n",
    "t = np.linspace(0, 10, 101)\n",
    "\n",
    "solution = odeint(ODE_System, q0, t, args=(lam.value, mu.value, theta.value, c.value, gamma.value))\n",
    "\n",
    "# Plot\n",
    "plt.plot(t, solution[:, 0], 'b', label = 'q1(t)')\n",
    "plt.plot(t, solution[:, 1], 'g', label = 'q2(t)')\n",
    "plt.legend(loc = 'best')\n",
    "plt.xlabel('t')\n",
    "plt.ylabel('Queue Lengths')\n",
    "plt.grid()\n",
    "plt.show()"
   ]
  },
  {
   "cell_type": "code",
   "execution_count": null,
   "metadata": {},
   "outputs": [],
   "source": []
  }
 ],
 "metadata": {
  "kernelspec": {
   "display_name": "Python 3",
   "language": "python",
   "name": "python3"
  },
  "language_info": {
   "codemirror_mode": {
    "name": "ipython",
    "version": 3
   },
   "file_extension": ".py",
   "mimetype": "text/x-python",
   "name": "python",
   "nbconvert_exporter": "python",
   "pygments_lexer": "ipython3",
   "version": "3.7.4"
  }
 },
 "nbformat": 4,
 "nbformat_minor": 2
}
